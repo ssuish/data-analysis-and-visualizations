{
 "cells": [
  {
   "cell_type": "markdown",
   "metadata": {},
   "source": [
    "# Data Analysis with Python\n",
    "- Basic data analysis using python programming language.\n",
    "\n",
    "## Data Types\n",
    "### Qualitative Data\n",
    "- represents the characteristics of the value.\n",
    "- doesn't have mathematical meaning.\n",
    "#### Types of Qualitative Data\n",
    "- Nominal : No quantitative value and meaning wouldn't change.\n",
    "- Ordinal : Has order and it's usually measured by non-numeric features.\n",
    "### Quantitative Data\n",
    "- numerical data\n",
    "- value is measured\n",
    "#### Types of Quantitative Data\n",
    "- Discrete : values are distinct and seperated. This data can be only counted.\n",
    "- Continuous : values are continuous and can only be measured."
   ]
  }
 ],
 "metadata": {
  "interpreter": {
   "hash": "73e4e48882827c613a5882492af78ef564a98c3a6c4a8f44a272ed992e77a12a"
  },
  "kernelspec": {
   "display_name": "Python 3.10.4 ('env': venv)",
   "language": "python",
   "name": "python3"
  },
  "language_info": {
   "codemirror_mode": {
    "name": "ipython",
    "version": 3
   },
   "file_extension": ".py",
   "mimetype": "text/x-python",
   "name": "python",
   "nbconvert_exporter": "python",
   "pygments_lexer": "ipython3",
   "version": "3.10.4"
  },
  "orig_nbformat": 4
 },
 "nbformat": 4,
 "nbformat_minor": 2
}
